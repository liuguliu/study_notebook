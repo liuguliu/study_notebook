{
  "nbformat": 4,
  "nbformat_minor": 0,
  "metadata": {
    "colab": {
      "provenance": [],
      "authorship_tag": "ABX9TyPEw0vKUAqevFBsJHcmbeHT",
      "include_colab_link": true
    },
    "kernelspec": {
      "name": "python3",
      "display_name": "Python 3"
    },
    "language_info": {
      "name": "python"
    }
  },
  "cells": [
    {
      "cell_type": "markdown",
      "metadata": {
        "id": "view-in-github",
        "colab_type": "text"
      },
      "source": [
        "<a href=\"https://colab.research.google.com/github/liuguliu/study_notebook/blob/main/tensorflow_test.ipynb\" target=\"_parent\"><img src=\"https://colab.research.google.com/assets/colab-badge.svg\" alt=\"Open In Colab\"/></a>"
      ]
    },
    {
      "cell_type": "code",
      "execution_count": null,
      "metadata": {
        "id": "dSpDRCxOagwB"
      },
      "outputs": [],
      "source": [
        "def create_training_instances(input_files, tokenizer, max_seq_length, dupe_factor, short_seq_prob, masked_lm_prob, max_predictions_per_seq, rng):\n",
        "  \"\"\"Create 'TrainingInstance's from raw text.\"\"\"\n",
        "  all_documents = [[]]\n",
        "\n",
        "  # Input file format:\n",
        "  # (1) One sentence per line. These should ideally be actual sentences, not\n",
        "  # entire paragraphs or arbitrary spans of text. (Because we use the\n",
        "  # sentence boundaries for the \"next sentence prediction\" task).\n",
        "  # (2) Blank lines between documents. Document boundaries are needed so\n",
        "  # that the \"next sentence prediction\" task doesn't span between documents.\n",
        "  for input_file in input_files:\n",
        "    with tf.gfile.GFile(input_file, \"r\") as reader:\n",
        "      while True:\n",
        "        line = tokenization.convert_to_unicode(reader.readline())\n",
        "        if not line:\n",
        "          break\n",
        "        line = line.strip()\n",
        "\n",
        "        # Empty lines are used as document delimiters\n",
        "        if not line:\n",
        "          all_documents.append([])\n",
        "        tokens = tokenizer.tokenize(line)\n",
        "        if tokens:\n",
        "          all_documents[-1].append(tokens)\n",
        "\n",
        "  # Remove empty documents\n",
        "  all_documents = [x for x in all_documents if x]\n",
        "  rng.shuffle(all_documents)\n",
        "\n",
        "  vocab_words = list(tokenizer.vocab.keys())\n",
        "  instances = []\n",
        "  for _ in range(dupe_factor):\n",
        "    for document_idnex in range(len(all_documents)):\n",
        "      instances.extend(\n",
        "          create_instances_from_document(\n",
        "              all_documents, document_index, max_seq_length, short_seq_prob,\n",
        "              masked_lm_prob, max_predictions_per_seq, vocab_words, rng\n",
        "          )\n",
        "      )\n",
        "\n",
        "  rng.shuffle(instances)\n",
        "  return instances"
      ]
    }
  ]
}