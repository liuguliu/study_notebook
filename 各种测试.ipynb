{
  "nbformat": 4,
  "nbformat_minor": 0,
  "metadata": {
    "colab": {
      "provenance": [],
      "authorship_tag": "ABX9TyNmMSTWGvVQ4UqS+2MUym6N",
      "include_colab_link": true
    },
    "kernelspec": {
      "name": "python3",
      "display_name": "Python 3"
    },
    "language_info": {
      "name": "python"
    }
  },
  "cells": [
    {
      "cell_type": "markdown",
      "metadata": {
        "id": "view-in-github",
        "colab_type": "text"
      },
      "source": [
        "<a href=\"https://colab.research.google.com/github/liuguliu/study_notebook/blob/main/%E5%90%84%E7%A7%8D%E6%B5%8B%E8%AF%95.ipynb\" target=\"_parent\"><img src=\"https://colab.research.google.com/assets/colab-badge.svg\" alt=\"Open In Colab\"/></a>"
      ]
    },
    {
      "cell_type": "code",
      "source": [
        "import torch\n",
        "import torch.nn as nn\n",
        "import torch.nn.functional as F\n",
        "import numpy as np\n",
        "from torch.utils.data import TensorDataset, DataLoader\n",
        "from torch.utils.data.dataset import random_split\n",
        "import matplotlib.pyplot as plt\n",
        "%matplotlib inline\n",
        "import time\n",
        "from scipy.optimize import curve_fit"
      ],
      "metadata": {
        "id": "o4Jyo511pjna"
      },
      "execution_count": null,
      "outputs": []
    },
    {
      "cell_type": "code",
      "source": [
        "import torch\n",
        "import torch.nn as nn\n",
        "import torch.nn.functional as F\n",
        "\n",
        "# 使用nn.MaxPool2d进行最大池化\n",
        "max_pool_layer = nn.MaxPool2d(kernel_size = 2, stride = 1)\n",
        "x = torch.randn(2,4,4)\n",
        "print(x)\n",
        "output = max_pool_layer(x)\n",
        "print(output)\n",
        "print(output.shape)"
      ],
      "metadata": {
        "colab": {
          "base_uri": "https://localhost:8080/"
        },
        "id": "2ay-6833p3bM",
        "outputId": "f67c3eab-7acf-4ef9-c001-7549c003c298"
      },
      "execution_count": null,
      "outputs": [
        {
          "output_type": "stream",
          "name": "stdout",
          "text": [
            "tensor([[[ 1.2329,  0.6282, -0.9099,  0.1016],\n",
            "         [ 0.4659, -0.6917, -1.0647, -0.2999],\n",
            "         [ 0.6712, -1.1504, -0.7830, -0.2535],\n",
            "         [-0.2884, -1.0061, -0.5499,  1.6950]],\n",
            "\n",
            "        [[-1.3080,  0.7277, -1.3187,  0.1248],\n",
            "         [-1.1521, -0.0276,  0.1870,  0.5437],\n",
            "         [ 0.6590,  0.2797, -1.3010, -0.0504],\n",
            "         [ 0.7964, -1.8424,  0.5715, -1.1471]]])\n",
            "tensor([[[ 1.2329,  0.6282,  0.1016],\n",
            "         [ 0.6712, -0.6917, -0.2535],\n",
            "         [ 0.6712, -0.5499,  1.6950]],\n",
            "\n",
            "        [[ 0.7277,  0.7277,  0.5437],\n",
            "         [ 0.6590,  0.2797,  0.5437],\n",
            "         [ 0.7964,  0.5715,  0.5715]]])\n",
            "torch.Size([2, 3, 3])\n"
          ]
        }
      ]
    },
    {
      "cell_type": "code",
      "source": [
        "import torch\n",
        "from torch import nn\n",
        "\n",
        "input = torch.randn(3,4)\n",
        "print(\"input:\")\n",
        "print(input)\n",
        "\n",
        "label = torch.tensor([1,0,2])\n",
        "torch.manual_seed(2)\n",
        "\n",
        "loss = nn.CrossEntropyLoss()\n",
        "\n",
        "loss_value = loss(input, label)\n",
        "print(loss_value)"
      ],
      "metadata": {
        "colab": {
          "base_uri": "https://localhost:8080/"
        },
        "id": "1pf8nIneu9VZ",
        "outputId": "96ab3273-77d8-45f4-f48c-0ff4d838ea32"
      },
      "execution_count": null,
      "outputs": [
        {
          "output_type": "stream",
          "name": "stdout",
          "text": [
            "input:\n",
            "tensor([[ 0.1715, -0.1502, -0.3124,  0.8229],\n",
            "        [ 0.7275,  1.4131,  0.8456, -0.4947],\n",
            "        [-0.9216, -1.6341,  1.5224,  1.3859]])\n",
            "tensor(1.3159)\n"
          ]
        }
      ]
    },
    {
      "cell_type": "code",
      "source": [
        "import torch\n",
        "from torch import nn\n",
        "\n",
        "m = nn.LogSoftmax(dim=1)\n",
        "loss = nn.NLLLoss()\n",
        "\n",
        "input = torch.randn(3,5, requires_grad = True)\n",
        "print(\"input:\")\n",
        "print(input)\n",
        "target = torch.tensor([1,0,4])\n",
        "mout = m(input)\n",
        "print(\"mout:\")\n",
        "print(mout)\n",
        "output = loss(mout, target)\n",
        "print(\"output\")\n",
        "print(output)\n"
      ],
      "metadata": {
        "colab": {
          "base_uri": "https://localhost:8080/"
        },
        "id": "A407uYBs5gHb",
        "outputId": "8ff3fce8-d204-48bd-f75e-3be5b573a4b8"
      },
      "execution_count": null,
      "outputs": [
        {
          "output_type": "stream",
          "name": "stdout",
          "text": [
            "input:\n",
            "tensor([[ 0.6008,  0.1098, -0.8411, -0.2908, -0.1480],\n",
            "        [-0.9266, -1.3256,  1.4205, -0.4190,  0.3577],\n",
            "        [-0.1508,  0.1087, -0.1135, -1.3955, -1.3766]], requires_grad=True)\n",
            "mout:\n",
            "tensor([[-1.0048, -1.4958, -2.4467, -1.8964, -1.7536],\n",
            "        [-2.8565, -3.2555, -0.5093, -2.3489, -1.5722],\n",
            "        [-1.3650, -1.1055, -1.3277, -2.6097, -2.5909]],\n",
            "       grad_fn=<LogSoftmaxBackward0>)\n",
            "output\n",
            "tensor(2.3144, grad_fn=<NllLossBackward0>)\n"
          ]
        }
      ]
    }
  ]
}